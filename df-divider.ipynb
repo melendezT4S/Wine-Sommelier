{
 "cells": [
  {
   "cell_type": "code",
   "execution_count": 2,
   "metadata": {},
   "outputs": [],
   "source": [
    "import pandas as pd\n",
    "\n",
    "# Nombre del archivo CSV de entrada y salida\n",
    "nombre_archivo_entrada = './data/winemag-data-130k-v2.csv'\n",
    "nombre_archivo_salida = 'winemag-data-reduced.csv'\n",
    "\n",
    "# Leer el archivo CSV con pandas\n",
    "dataframe = pd.read_csv(nombre_archivo_entrada)\n",
    "\n",
    "# Obtener las primeras 10 filas del DataFrame\n",
    "primeras_10_filas = dataframe.head(100)\n",
    "\n",
    "# Guardar las primeras 10 filas en un nuevo archivo CSV\n",
    "primeras_10_filas.to_csv(nombre_archivo_salida, index=False)\n"
   ]
  }
 ],
 "metadata": {
  "kernelspec": {
   "display_name": "entorno_ml",
   "language": "python",
   "name": "python3"
  },
  "language_info": {
   "codemirror_mode": {
    "name": "ipython",
    "version": 3
   },
   "file_extension": ".py",
   "mimetype": "text/x-python",
   "name": "python",
   "nbconvert_exporter": "python",
   "pygments_lexer": "ipython3",
   "version": "3.10.13"
  }
 },
 "nbformat": 4,
 "nbformat_minor": 2
}
